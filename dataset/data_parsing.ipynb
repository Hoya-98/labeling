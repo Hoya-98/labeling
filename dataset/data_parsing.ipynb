{
 "cells": [
  {
   "cell_type": "code",
   "execution_count": 2,
   "id": "ee70516f-bfef-4164-9f4e-7d966e431303",
   "metadata": {},
   "outputs": [],
   "source": [
    "import pandas as pd\n",
    "import cv2\n",
    "from matplotlib import pyplot as plt"
   ]
  },
  {
   "cell_type": "code",
   "execution_count": 4,
   "id": "38f214fd-eb34-4700-af17-002aad7bd90b",
   "metadata": {},
   "outputs": [],
   "source": [
    "df = pd.read_csv(\"./label.csv\")\n",
    "\n",
    "cropped_df = pd.DataFrame(columns=[\"file_name\", \"label\"])\n",
    "raw_path = \"./raw\"\n",
    "crop_path = \"./crop\"\n",
    "error = []\n",
    "\n",
    "for i in range(df.shape[0]):\n",
    "    # get a row\n",
    "    f = df.iloc[i]\n",
    "    fn = f[\"file_name\"]\n",
    "    x1, y1, x2, y2 = map(int, (f[\"x1\"], f[\"y1\"], f[\"x2\"], f[\"y2\"]))\n",
    "    label = f[\"label_id\"]\n",
    "\n",
    "    # crop image and save\n",
    "    try:\n",
    "        cropped_img = cv2.imread(f\"{raw_path}/{fn}\")[y1:y2, x1:x2]\n",
    "        cropped_img_name = f\"{x1}{y1}{x2}{y2}_{fn}\"\n",
    "        cv2.imwrite(f\"{crop_path}/{cropped_img_name}\", cropped_img)\n",
    "        cropped_df.loc[i] = [cropped_img_name, label]\n",
    "    except:\n",
    "        error.append(i)"
   ]
  },
  {
   "cell_type": "code",
   "execution_count": 8,
   "id": "33e4ee42-a472-45b1-ac8a-335954166806",
   "metadata": {},
   "outputs": [
    {
     "data": {
      "text/plain": [
       "[836, 2227, 4134]"
      ]
     },
     "execution_count": 8,
     "metadata": {},
     "output_type": "execute_result"
    }
   ],
   "source": [
    "error"
   ]
  },
  {
   "cell_type": "code",
   "execution_count": 10,
   "id": "5d32bd7c-0810-49d5-804c-e328dab93f17",
   "metadata": {},
   "outputs": [],
   "source": [
    "cropped_df.to_csv(\"./cropped_label.csv\", index=False)"
   ]
  }
 ],
 "metadata": {
  "kernelspec": {
   "display_name": "ultralytics",
   "language": "python",
   "name": "ultralytics"
  },
  "language_info": {
   "codemirror_mode": {
    "name": "ipython",
    "version": 3
   },
   "file_extension": ".py",
   "mimetype": "text/x-python",
   "name": "python",
   "nbconvert_exporter": "python",
   "pygments_lexer": "ipython3",
   "version": "3.8.0"
  }
 },
 "nbformat": 4,
 "nbformat_minor": 5
}
