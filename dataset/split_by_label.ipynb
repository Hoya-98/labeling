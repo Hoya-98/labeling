{
 "cells": [
  {
   "cell_type": "code",
   "execution_count": 30,
   "id": "d92f25b9-e511-45d9-99bc-025f92a7c68b",
   "metadata": {},
   "outputs": [],
   "source": [
    "# 라벨 별로 수정\n",
    "import pandas as pd\n",
    "import os\n",
    "import shutil\n",
    "# test"
   ]
  },
  {
   "cell_type": "code",
   "execution_count": 31,
   "id": "e35b8072-ee7c-4023-bd8e-bd68aef259db",
   "metadata": {},
   "outputs": [],
   "source": [
    "df = pd.read_csv(\"./cropped_label.csv\")"
   ]
  },
  {
   "cell_type": "code",
   "execution_count": 32,
   "id": "e9cb98e3-0573-4b1a-89cc-1df4ab4484b7",
   "metadata": {},
   "outputs": [],
   "source": [
    "enum = {\"심재성 2도\": \"2-deep\", \"1도\": \"1\", \"3도\" : \"3\", \"표재성 2도\": \"2-shallow\", \"정상\": \"normal\"}"
   ]
  },
  {
   "cell_type": "code",
   "execution_count": 34,
   "id": "4d922952-5332-4f94-9c07-d69e6e32c33d",
   "metadata": {},
   "outputs": [],
   "source": [
    "for i in range(df.shape[0]):\n",
    "    f = df.iloc[i]\n",
    "    label = enum[f[\"label\"]]\n",
    "    label_path = f\"./train/{label}\"\n",
    "    if os.path.isdir(label_path) == False:\n",
    "        os.mkdir(label_path)\n",
    "    \n",
    "    shutil.copy(f\"./crop/\"+f[\"file_name\"], label_path)\n",
    "    "
   ]
  }
 ],
 "metadata": {
  "kernelspec": {
   "display_name": "ultralytics",
   "language": "python",
   "name": "ultralytics"
  },
  "language_info": {
   "codemirror_mode": {
    "name": "ipython",
    "version": 3
   },
   "file_extension": ".py",
   "mimetype": "text/x-python",
   "name": "python",
   "nbconvert_exporter": "python",
   "pygments_lexer": "ipython3",
   "version": "3.8.0"
  }
 },
 "nbformat": 4,
 "nbformat_minor": 5
}
