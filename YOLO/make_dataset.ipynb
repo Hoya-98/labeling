{
 "cells": [
  {
   "cell_type": "markdown",
   "id": "844ab0d8",
   "metadata": {},
   "source": [
    "# make dataset from label_csv"
   ]
  },
  {
   "cell_type": "code",
   "execution_count": 40,
   "id": "d311bb2d-d463-4920-a405-c744bf14b1aa",
   "metadata": {},
   "outputs": [],
   "source": [
    "import pandas as pd\n",
    "from sklearn.model_selection import train_test_split\n",
    "import shutil\n",
    "import os\n",
    "import cv2\n",
    "from PIL import ImageFile, ImageOps, Image"
   ]
  },
  {
   "cell_type": "code",
   "execution_count": 41,
   "id": "5c4cebae-db54-4872-868a-e9c9ddf9ccbd",
   "metadata": {},
   "outputs": [],
   "source": [
    "orig_df = pd.read_csv(\"../dataset/label.csv\")"
   ]
  },
  {
   "cell_type": "code",
   "execution_count": 42,
   "id": "b9a08e93-578d-454d-bae8-cd1845240643",
   "metadata": {},
   "outputs": [],
   "source": [
    "without_normal_df = orig_df[(orig_df[\"label_id\"] == \"심재성 2도\") | (orig_df[\"label_id\"] == \"표재성 2도\") | (orig_df[\"label_id\"] ==  \"1도\") | (orig_df[\"label_id\"] == \"3도\")]"
   ]
  },
  {
   "cell_type": "code",
   "execution_count": 43,
   "id": "56939dd4-131e-4d96-84fb-2cb190cf409c",
   "metadata": {},
   "outputs": [],
   "source": [
    "X_train, X_valid = train_test_split(without_normal_df, test_size=0.2, stratify=without_normal_df[\"label_id\"])"
   ]
  },
  {
   "cell_type": "code",
   "execution_count": 44,
   "id": "fe6ebac5-8cb1-47da-af6e-ea19dad91d04",
   "metadata": {},
   "outputs": [],
   "source": [
    "os.mkdir(\"./images\")\n",
    "os.mkdir(\"./labels\")"
   ]
  },
  {
   "cell_type": "code",
   "execution_count": 45,
   "id": "7e123ffe-a5f9-485d-b12a-201632ffb435",
   "metadata": {},
   "outputs": [],
   "source": [
    "os.mkdir(\"./images/train\")\n",
    "os.mkdir(\"./images/val\")\n",
    "os.mkdir(\"./labels/train\")\n",
    "os.mkdir(\"./labels/val\")"
   ]
  },
  {
   "cell_type": "code",
   "execution_count": 46,
   "id": "0607b71b-8541-4366-a8c4-71d9b8d469c7",
   "metadata": {},
   "outputs": [],
   "source": [
    "enum = {\"심재성 2도\": 2, \"1도\": 0, \"3도\" : 3, \"표재성 2도\": 1}"
   ]
  },
  {
   "cell_type": "code",
   "execution_count": 47,
   "id": "ea03e3fc-6d0b-43d4-a067-e1c1f8937e80",
   "metadata": {},
   "outputs": [],
   "source": [
    "df = X_train\n",
    "path = \"train\"\n",
    "\n",
    "for fn in df[\"file_name\"].unique():\n",
    "    parse_df = df[df[\"file_name\"]==fn]\n",
    "    label_path = \"./labels/\" + path + \"/\" + fn.split(\".\")[0] + \".txt\"\n",
    "    label_txt = open(label_path, \"w\")\n",
    "    label_txt.close()\n",
    "\n",
    "    label_txt = open(label_path, \"a\")\n",
    "    for i in range(parse_df.shape[0]):\n",
    "        f = parse_df.iloc[i]\n",
    "        f_name = f[\"file_name\"]\n",
    "        img_path = f\"../dataset/raw/{f_name}\"\n",
    "        img = Image.open(img_path).convert(\"RGB\")\n",
    "        img = ImageOps.exif_transpose(img) # 화상 이미지 회전 이슈 \n",
    "        \n",
    "        height = (f[\"y2\"]-f[\"y1\"]) / img.size[1]\n",
    "        width = (f[\"x2\"]-f[\"x1\"]) / img.size[0]\n",
    "        center_y = (f[\"y1\"] + (f[\"y2\"]-f[\"y1\"]) / 2) / img.size[1]\n",
    "        center_x = (f[\"x1\"] + (f[\"x2\"]-f[\"x1\"]) / 2) / img.size[0]\n",
    "\n",
    "        class_id = enum[f[\"label_id\"]]\n",
    "        line = f\"{class_id} {center_x} {center_y} {width} {height}\\n\"\n",
    "        label_txt.write(line)\n",
    "    \n",
    "    shutil.copy(f\"../dataset/raw/{fn}\", f\"./images/{path}\")\n",
    "    label_txt.close()"
   ]
  },
  {
   "cell_type": "code",
   "execution_count": 48,
   "id": "3fc9d86d-3d60-4e54-8716-f8bacd1a7f6f",
   "metadata": {},
   "outputs": [],
   "source": [
    "df = X_valid\n",
    "path = \"val\"\n",
    "\n",
    "for fn in df[\"file_name\"].unique():\n",
    "    parse_df = df[df[\"file_name\"]==fn]\n",
    "    label_path = \"./labels/\" + path + \"/\" + fn.split(\".\")[0] + \".txt\"\n",
    "    label_txt = open(label_path, \"w\")\n",
    "    label_txt.close()\n",
    "\n",
    "    label_txt = open(label_path, \"a\")\n",
    "    for i in range(parse_df.shape[0]):\n",
    "        f = parse_df.iloc[i]\n",
    "        f_name = f[\"file_name\"]\n",
    "        img_path = f\"../dataset/raw/{f_name}\"\n",
    "        img = Image.open(img_path).convert(\"RGB\")\n",
    "        img = ImageOps.exif_transpose(img) # 화상 이미지 회전 이슈 \n",
    "        \n",
    "        height = (f[\"y2\"]-f[\"y1\"]) / img.size[1]\n",
    "        width = (f[\"x2\"]-f[\"x1\"]) / img.size[0]\n",
    "        center_y = (f[\"y1\"] + (f[\"y2\"]-f[\"y1\"]) / 2) / img.size[1]\n",
    "        center_x = (f[\"x1\"] + (f[\"x2\"]-f[\"x1\"]) / 2) / img.size[0]\n",
    "\n",
    "        class_id = enum[f[\"label_id\"]]\n",
    "        line = f\"{class_id} {center_x} {center_y} {width} {height}\\n\"\n",
    "        label_txt.write(line)\n",
    "    \n",
    "    shutil.copy(f\"../dataset/raw/{fn}\", f\"./images/{path}\")\n",
    "    label_txt.close()"
   ]
  },
  {
   "cell_type": "markdown",
   "id": "03a233c4",
   "metadata": {},
   "source": [
    "# make dataset from unprocessed"
   ]
  },
  {
   "cell_type": "code",
   "execution_count": 21,
   "id": "c1ebf929",
   "metadata": {},
   "outputs": [],
   "source": [
    "imgs = os.listdir(\"../dataset/unprocessed/\")"
   ]
  },
  {
   "cell_type": "code",
   "execution_count": 22,
   "id": "000ed373-aa2c-4823-a302-8cb348b8f8e8",
   "metadata": {},
   "outputs": [],
   "source": [
    "x1, y1, x2, y2, name = imgs[0].split('_')\n",
    "x1, y1, x2, y2 = map(float, [x1, y1, x2, y2])"
   ]
  },
  {
   "cell_type": "code",
   "execution_count": 23,
   "id": "ea4b46a9-1480-47d0-bb54-1a3c3c8b4c30",
   "metadata": {},
   "outputs": [],
   "source": [
    "df = pd.DataFrame(columns=[\"file_name\", \"x1\", \"y1\", \"x2\", \"y2\", \"label_id\"])"
   ]
  },
  {
   "cell_type": "code",
   "execution_count": 24,
   "id": "7a0910c9-13e6-4cab-843b-3a26ee969431",
   "metadata": {},
   "outputs": [],
   "source": [
    "for i in range(len(imgs)):\n",
    "    img = imgs[i]\n",
    "    x1, y1, x2, y2, name = img.split('_')\n",
    "    x1, y1, x2, y2 = map(float, [x1, y1, x2, y2])\n",
    "    df.loc[i] = {\"file_name\": img, \"x1\": x1, \"y1\": y1, \"x2\": x2, \"y2\": y2, \"label_id\": 0}"
   ]
  },
  {
   "cell_type": "code",
   "execution_count": 25,
   "id": "8896fca3-d3bc-44a7-b184-f2f7e3422781",
   "metadata": {},
   "outputs": [],
   "source": [
    "df.to_csv(\"unprocessed.csv\", index=False)"
   ]
  },
  {
   "cell_type": "code",
   "execution_count": 37,
   "id": "c2d3535b-dd86-49a6-a875-6a704bdee481",
   "metadata": {},
   "outputs": [],
   "source": [
    "os.mkdir(\"../dataset/YOLO_dataset/hoya_set/images\")\n",
    "os.mkdir(\"../dataset/YOLO_dataset/hoya_set/labels\")\n",
    "os.mkdir(\"../dataset/YOLO_dataset/hoya_set/images/train\")\n",
    "os.mkdir(\"../dataset/YOLO_dataset/hoya_set/images/val\")\n",
    "os.mkdir(\"../dataset/YOLO_dataset/hoya_set/labels/train\")\n",
    "os.mkdir(\"../dataset/YOLO_dataset/hoya_set/labels/val\")"
   ]
  },
  {
   "cell_type": "code",
   "execution_count": 27,
   "id": "a5cb9c50-69d5-49cb-b559-136f0250f69f",
   "metadata": {},
   "outputs": [],
   "source": [
    "X_train, X_valid = train_test_split(df, test_size=0.2)"
   ]
  },
  {
   "cell_type": "code",
   "execution_count": 38,
   "id": "da3ce6e7-85e1-4782-9fb0-862d7ab082a2",
   "metadata": {},
   "outputs": [],
   "source": [
    "df = X_train\n",
    "path = \"../dataset/YOLO_dataset/hoya_set/\"\n",
    "category = \"train\"\n",
    "\n",
    "for fn in df[\"file_name\"].unique():\n",
    "    parse_df = df[df[\"file_name\"]==fn]\n",
    "    label_path = path + \"labels/\" + category + \"/\" + fn[:-4] + \".txt\"\n",
    "    label_txt = open(label_path, \"w\")\n",
    "    label_txt.close()\n",
    "\n",
    "    label_txt = open(label_path, \"a\")\n",
    "    for i in range(parse_df.shape[0]):\n",
    "        f = parse_df.iloc[i]\n",
    "        f_name = f[\"file_name\"]\n",
    "        img_path = f\"../dataset/unprocessed/{f_name}\"\n",
    "        img = Image.open(img_path).convert(\"RGB\")\n",
    "        img = ImageOps.exif_transpose(img) # 화상 이미지 회전 이슈 \n",
    "        \n",
    "        height = (f[\"y2\"]-f[\"y1\"]) / img.size[1]\n",
    "        width = (f[\"x2\"]-f[\"x1\"]) / img.size[0]\n",
    "        center_y = (f[\"y1\"] + (f[\"y2\"]-f[\"y1\"]) / 2) / img.size[1]\n",
    "        center_x = (f[\"x1\"] + (f[\"x2\"]-f[\"x1\"]) / 2) / img.size[0]\n",
    "\n",
    "        class_id = f[\"label_id\"]\n",
    "        line = f\"{class_id} {center_x} {center_y} {width} {height}\\n\"\n",
    "        label_txt.write(line)\n",
    "    \n",
    "    shutil.copy(f\"../dataset/unprocessed/{fn}\", f\"{path}images/{category}\")\n",
    "    label_txt.close()"
   ]
  },
  {
   "cell_type": "code",
   "execution_count": 39,
   "id": "4a60eb37-a5fa-47a2-b292-2e96f1dcf487",
   "metadata": {},
   "outputs": [],
   "source": [
    "df = X_valid\n",
    "path = \"../dataset/YOLO_dataset/hoya_set/\"\n",
    "category = \"val\"\n",
    "\n",
    "for fn in df[\"file_name\"].unique():\n",
    "    parse_df = df[df[\"file_name\"]==fn]\n",
    "    label_path = path + \"labels/\" + category + \"/\" + fn[:-4] + \".txt\"\n",
    "    label_txt = open(label_path, \"w\")\n",
    "    label_txt.close()\n",
    "\n",
    "    label_txt = open(label_path, \"a\")\n",
    "    for i in range(parse_df.shape[0]):\n",
    "        f = parse_df.iloc[i]\n",
    "        f_name = f[\"file_name\"]\n",
    "        img_path = f\"../dataset/unprocessed/{f_name}\"\n",
    "        img = Image.open(img_path).convert(\"RGB\")\n",
    "        img = ImageOps.exif_transpose(img) # 화상 이미지 회전 이슈 \n",
    "        \n",
    "        height = (f[\"y2\"]-f[\"y1\"]) / img.size[1]\n",
    "        width = (f[\"x2\"]-f[\"x1\"]) / img.size[0]\n",
    "        center_y = (f[\"y1\"] + (f[\"y2\"]-f[\"y1\"]) / 2) / img.size[1]\n",
    "        center_x = (f[\"x1\"] + (f[\"x2\"]-f[\"x1\"]) / 2) / img.size[0]\n",
    "\n",
    "        class_id = f[\"label_id\"]\n",
    "        line = f\"{class_id} {center_x} {center_y} {width} {height}\\n\"\n",
    "        label_txt.write(line)\n",
    "    \n",
    "    shutil.copy(f\"../dataset/unprocessed/{fn}\", f\"{path}images/{category}\")\n",
    "    label_txt.close()"
   ]
  }
 ],
 "metadata": {
  "kernelspec": {
   "display_name": "ultralytics",
   "language": "python",
   "name": "ultralytics"
  },
  "language_info": {
   "codemirror_mode": {
    "name": "ipython",
    "version": 3
   },
   "file_extension": ".py",
   "mimetype": "text/x-python",
   "name": "python",
   "nbconvert_exporter": "python",
   "pygments_lexer": "ipython3",
   "version": "3.8.0"
  }
 },
 "nbformat": 4,
 "nbformat_minor": 5
}
